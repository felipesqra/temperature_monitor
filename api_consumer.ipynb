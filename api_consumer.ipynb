{
 "cells": [
  {
   "cell_type": "code",
   "execution_count": 3,
   "metadata": {},
   "outputs": [],
   "source": [
    "import pandas as pd"
   ]
  },
  {
   "cell_type": "code",
   "execution_count": 27,
   "metadata": {},
   "outputs": [],
   "source": [
    "def import_data_year(year):\n",
    "    url = f'https://apitempo.inmet.gov.br/token/estacao/{year}-01-01/{year}-12-31/A424/M3liZlpQRG0zZEJDSG5JekdyQlNocHZiZlBkWEE5anA=3ybfZPDm3dBCHnIzGrBShpvbfPdXA9jp'\n",
    "    response = requests.get(url)\n",
    "\n",
    "    if response.status_code == 200:\n",
    "        # A solicitação foi bem-sucedida\n",
    "        data = response.json()\n",
    "        return data\n",
    "    else:\n",
    "        # A solicitação falhou\n",
    "        print(f\"Erro {response.status_code}: {response.text}\")\n",
    "        \n",
    "    "
   ]
  },
  {
   "cell_type": "code",
   "execution_count": 28,
   "metadata": {},
   "outputs": [
    {
     "name": "stdout",
     "output_type": "stream",
     "text": [
      "Baixando dados de 2009\n",
      "Baixando dados de 2010\n",
      "Baixando dados de 2011\n",
      "Baixando dados de 2012\n",
      "Baixando dados de 2013\n",
      "Baixando dados de 2014\n",
      "Baixando dados de 2015\n",
      "Baixando dados de 2016\n",
      "Baixando dados de 2017\n",
      "Baixando dados de 2018\n",
      "Baixando dados de 2019\n",
      "Baixando dados de 2020\n",
      "Baixando dados de 2021\n",
      "Baixando dados de 2022\n"
     ]
    }
   ],
   "source": [
    "for i in range(2009, 2023):\n",
    "    print(\"Baixando dados de\", i)\n",
    "    data = import_data_year(i)\n",
    "    df = pd.DataFrame(data)\n",
    "    \n",
    "    df.to_csv(f'data_2009_2022/data_{i}.csv', index=False)\n",
    "    "
   ]
  },
  {
   "cell_type": "code",
   "execution_count": null,
   "metadata": {},
   "outputs": [],
   "source": []
  }
 ],
 "metadata": {
  "kernelspec": {
   "display_name": "Python 3",
   "language": "python",
   "name": "python3"
  },
  "language_info": {
   "codemirror_mode": {
    "name": "ipython",
    "version": 3
   },
   "file_extension": ".py",
   "mimetype": "text/x-python",
   "name": "python",
   "nbconvert_exporter": "python",
   "pygments_lexer": "ipython3",
   "version": "3.10.12"
  }
 },
 "nbformat": 4,
 "nbformat_minor": 2
}
